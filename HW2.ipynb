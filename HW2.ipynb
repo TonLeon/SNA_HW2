{
 "cells": [
  {
   "cell_type": "code",
   "execution_count": null,
   "metadata": {},
   "outputs": [],
   "source": [
    "import networkx as nx\n",
    "import matplotlib.pyplot as plt\n",
    "from collections import Counter\n",
    "import math\n",
    "import numpy as np\n",
    "import matplotlib.colors as mcolors\n",
    "import pandas as pd\n",
    "import re\n",
    "from networkx import density \n",
    "from community import community_louvain\n",
    "from PIL import Image"
   ]
  },
  {
   "cell_type": "markdown",
   "metadata": {},
   "source": [
    "## Data creating & Data cleaning\n",
    "Полученные при скачивании \"графа друзей\" из vk.com (я взяла только своих друзей) данные пришлось немного почистить, прежде чем работать с ними. Так, изначально в графе было 603 нода, среди которых были в том числе и удаленные пользователи. Поскольку их был небольшое число, они были удалены вручную после фильтрации в Gephi, где изначально граф был открыт. \n",
    "Из Gephi, где так же были посчитаны изначально некоторые метрики и выделены кластеры согласно показателям модулярности, были выкачаны .csv таблицы с данными по узлам и данными по ребрам. Поскольку в таблице ребер появляются только те люди, у которых есть хотя бы одна связь (замечу, себя я в граф не включала), при визуализации в networkx не были отражены друзья-одиночки (честно говоря, это задание заставило задуматься, а кто вообще эти люди). В результате, узлов всего 572.\n",
    "Также стоит отметить, что в таблице ребер были указаны id узлов, у которых есть связь, а не их лейблы (имена_фамилии). Для удобства я поменяла id на labels, чтобы при визуализации в networkx мы все-таки понимали, кто есть кто.\n",
    "Кроме того, мне удобнее работать сразу с csv файлами, а не открывать .gexf файл."
   ]
  },
  {
   "cell_type": "code",
   "execution_count": null,
   "metadata": {},
   "outputs": [],
   "source": [
    "nodes = pd.read_csv(\"Friends_graph_nodes.csv\") \n",
    "edges = pd.read_csv(\"Friends_graph_edges.csv\") \n",
    "clean_nodes = nodes[['Id','Label']]\n",
    "clean_edges = edges[['Source','Target']]"
   ]
  },
  {
   "cell_type": "code",
   "execution_count": null,
   "metadata": {},
   "outputs": [],
   "source": [
    "dict_id_labels = {row[1]['Id'] : row[1]['Label'] for row in clean_nodes.iterrows()}"
   ]
  },
  {
   "cell_type": "code",
   "execution_count": null,
   "metadata": {},
   "outputs": [],
   "source": [
    "clean_edges_with_names = clean_edges.copy()\n",
    "clean_edges_with_names = clean_edges.applymap(lambda id: dict_id_labels[id])"
   ]
  },
  {
   "cell_type": "code",
   "execution_count": null,
   "metadata": {},
   "outputs": [],
   "source": [
    "print(clean_edges_with_names)"
   ]
  },
  {
   "cell_type": "code",
   "execution_count": null,
   "metadata": {},
   "outputs": [],
   "source": [
    "graph=nx.from_pandas_edgelist(clean_edges_with_names, 'Source', 'Target')"
   ]
  },
  {
   "cell_type": "markdown",
   "metadata": {},
   "source": [
    "## Basic statistics - number of nodes, edges, components, density"
   ]
  },
  {
   "cell_type": "markdown",
   "metadata": {},
   "source": [
    "Здесь я предлагаю посчитать статистику для моего неориентированного графа. Ориентированным я не вижу смысла его делать, потому что мы не можем определить направление \"отношений\", если ты друг, то это взаимно."
   ]
  },
  {
   "cell_type": "code",
   "execution_count": null,
   "metadata": {},
   "outputs": [],
   "source": [
    "def visualize_graph(graph, title, color):\n",
    "    nx.kamada_kawai_layout(graph) \n",
    "    pos = nx.kamada_kawai_layout(graph)\n",
    "    plt.figure(figsize=(36, 30))\n",
    "    plt.title(title, size = '36', weight = 'bold', color = 'black')\n",
    "    nx.draw(graph, pos, with_labels=True, node_color=color, edge_color='darkgrey')"
   ]
  },
  {
   "cell_type": "code",
   "execution_count": null,
   "metadata": {},
   "outputs": [],
   "source": [
    "def metrics(graph):\n",
    "    print('Number of nodes:', graph.number_of_nodes())\n",
    "    print('Number of edges:', graph.number_of_edges())\n",
    "    print('Diameter of graph:', nx.diameter(graph))\n",
    "    print('Number of components:', nx.number_connected_components(graph))\n",
    "    print('The density of graph is:', nx.density(graph))\n",
    "    print('The average degree of graph is:', len(graph.edges())/len(graph.nodes()))"
   ]
  },
  {
   "cell_type": "code",
   "execution_count": null,
   "metadata": {
    "scrolled": true
   },
   "outputs": [],
   "source": [
    "visualize_graph(graph, 'General graph', 'steelblue')\n",
    "metrics(graph)"
   ]
  },
  {
   "cell_type": "markdown",
   "metadata": {},
   "source": [
    "После визуализации графа мы в целом можем наблюдать как минимум два больших кластера, на которые он разделился - кластер школы(верхний) и кластер университета(нижний). В дальнейшем будет видно, что кластеров гораздо больше, и что даже верхнее большое облако разделилось на два сообщества. Сейчас же мы можем сказать, что у нас довольно высокий показатель связности у узлов и что у нас на графе можно наблюдать реализацию правила шести рукопожатий (если бы в графе была я, то жиаметр был бы меньше 6 + вероятно, для его уменьшения надо из графа убрать такие узлы, как, например, \"Себом Ли\" - т.е. узлы с одной связью). Плотность графа не очень большая в сравнении с плотностью, посчитанной ниже. "
   ]
  },
  {
   "cell_type": "code",
   "execution_count": null,
   "metadata": {
    "scrolled": true
   },
   "outputs": [],
   "source": [
    "sub_graph = nx.algorithms.core.k_core(graph, k = 20)\n",
    "sub_graph  = sub_graph.subgraph(max(nx.connected_components(sub_graph), key=len))\n",
    "visualize_graph(sub_graph, 'Sub-graph, k = 20', 'crimson')\n",
    "metrics(sub_graph)"
   ]
  },
  {
   "cell_type": "markdown",
   "metadata": {},
   "source": [
    "Применив k-core decomposition к нашему общему графу, мы отфильтровали те ноды, у которых значение нагрузки меньше 20. В результате мы более отчетливо получили те два кластера, о которых мы говорили выше. Более того, наши показатели метрик нагрузки и плотности увеличились (плотность более, чем в 3 раза), что в целом не удивительно, потому что в школе и университете все общаются со всеми."
   ]
  },
  {
   "cell_type": "markdown",
   "metadata": {},
   "source": [
    "## Descriptive analysis"
   ]
  },
  {
   "cell_type": "code",
   "execution_count": null,
   "metadata": {},
   "outputs": [],
   "source": [
    "degree_sequence = sorted([degree for node, degree in graph.degree()], reverse=True)  # degree sequence\n",
    "degree_count = Counter(degree_sequence)\n",
    "degree, count = zip(*degree_count.items())\n",
    "\n",
    "plt.title(\"Log-log of degree desctribution\")\n",
    "plt.scatter([math.log(i) for i in degree_count.keys()], [math.log(i) for i in degree_count.values()])\n",
    "plt.show()"
   ]
  },
  {
   "cell_type": "code",
   "execution_count": null,
   "metadata": {},
   "outputs": [],
   "source": [
    "'''апросимирующая прямая'''\n",
    "x = np.array([math.log(i) for i in degree_count.keys()])\n",
    "y = np.array([math.log(i) for i in degree_count.values()])\n",
    "m, b = np.polyfit(x, y, 1)\n",
    "plt.scatter(x, y)\n",
    "plt.plot(x, m*x + b)\n",
    "plt.title(\"Log-log of degree desctribution with linear regression\")\n",
    "plt.show()\n",
    "\n",
    "print('m равно:', m)\n",
    "print('b равно:', b)"
   ]
  },
  {
   "cell_type": "markdown",
   "metadata": {},
   "source": [
    "$$\\log y = m \\log x + b \\Leftrightarrow y = e^{m \\log x + b} = e^b(e^{\\log x})^m = e^b x^m$$"
   ]
  },
  {
   "cell_type": "code",
   "execution_count": null,
   "metadata": {},
   "outputs": [],
   "source": [
    "fig, ax = plt.subplots(figsize=(40,20))\n",
    "plt.bar(degree, count, width=1, color=\"steelblue\")\n",
    "plt.plot(degree[:-4], (np.e**b * degree**m)[:-4], color='red', linewidth=5, label='Степенная зависимость degree от count')\n",
    "plt.legend(fontsize = 40)\n",
    "plt.title(\"Degree Histogram\", fontsize=40)\n",
    "plt.ylabel(\"Count\", fontsize=40)\n",
    "plt.xlabel(\"Degree\", fontsize=40)\n",
    "ax.set_xticks(degree)\n",
    "ax.set_yticks(count)\n",
    "plt.show()"
   ]
  },
  {
   "cell_type": "markdown",
   "metadata": {},
   "source": [
    "Мы анализируем граф социальных сетей, и в данном случае наше распределение похоже на степенное (как и должно быть). Мы видим, что число вершин с данным degree убывает со скоростью $x^{-0.7}$ с ростом degree, т.е. практически по закону Ципфа ($x^{-1}$)."
   ]
  },
  {
   "cell_type": "markdown",
   "metadata": {},
   "source": [
    "## Centralities"
   ]
  },
  {
   "cell_type": "code",
   "execution_count": null,
   "metadata": {},
   "outputs": [],
   "source": [
    "'''Подсчет показателей разных центральностей и выведелние результатов в датафрейме'''\n",
    "degree = nx.degree_centrality(graph)\n",
    "closeness = nx.closeness_centrality(graph)\n",
    "eigenvector = nx.eigenvector_centrality(graph)\n",
    "betweenness = nx.betweenness_centrality(graph)\n",
    "df = pd.DataFrame([degree, closeness, eigenvector, betweenness], index=['degree','closeness', 'eigenvector', 'betweenness']).T\n",
    "df.sort_values(by=['betweenness'])"
   ]
  },
  {
   "cell_type": "code",
   "execution_count": null,
   "metadata": {},
   "outputs": [],
   "source": [
    "'''Функция для визуализации графа согласно показателю какой-нибудь центральности'''\n",
    "def draw(G, pos, measures, measure_name):\n",
    "    \n",
    "    fig = plt.figure(figsize=(50,40))\n",
    "    nodes = nx.draw_networkx_nodes(G, pos, cmap=plt.cm.BrBG, node_color=list(measures.values()),\n",
    "                                   nodelist=measures.keys(), node_size=[v * 3000 for v in measures.values()])\n",
    "    # nodes.set_norm(mcolors.SymLogNorm(linthresh=0.01, linscale=1, base=10))\n",
    "    labels = nx.draw_networkx_labels(G, pos, font_color='black', font_size='11')\n",
    "    edges = nx.draw_networkx_edges(G, pos, edge_color = 'darkgrey')\n",
    "\n",
    "    plt.title(measure_name, color='black', size = '48', weight = 'bold')\n",
    "    plt.colorbar(nodes, orientation = 'horizontal')\n",
    "    plt.axis('off')\n",
    "    fig.set_facecolor('white')\n",
    "    plt.show()"
   ]
  },
  {
   "cell_type": "code",
   "execution_count": null,
   "metadata": {
    "scrolled": false
   },
   "outputs": [],
   "source": [
    "pos = nx.kamada_kawai_layout(graph)\n",
    "draw(graph, pos, nx.degree_centrality(graph),'Degree Centrality')\n",
    "draw(graph, pos, nx.closeness_centrality(graph),'Closeness Centrality')\n",
    "draw(graph, pos, nx.eigenvector_centrality(graph),'Eigenvector Centrality')\n",
    "draw(graph, pos, nx.betweenness_centrality(graph),'Betweenness Centrality')"
   ]
  },
  {
   "cell_type": "markdown",
   "metadata": {},
   "source": [
    "* **Degree Centrality**\n",
    "\n",
    "Довольно непоказательная мера, которая не совсем кореллирует с betweenness centrality (хотя обычно так). Самые большие показатели - у людей, с которыми у меня наибольшее число общих знакомых. В школе я больше взаимодействовала с людьми, и потому все люди, у которых высокий показатель, относятся к кластеру школы.\n",
    "\n",
    "* **Closeness Centrality**\n",
    "Вспомним, что Closeness Centrality определяется по формуле\n",
    "\n",
    "$$C(x)=\\frac{N}{\\sum_{y} d(y, x)}$$\n",
    "\n",
    "Т.е. один делить на среднее расстояние от всех вершин. Чем меньше сумма расстояний от узла, тем выше значение центральности => тем ближе к центру графа будет находиться узел (узел с наименьшей суммой вершин будет находиться \"посередине\" графа). Те ноды, что окрашены в более тёмный обладают наименьшим расстоянием до любых остальных узлов (судя по нашей шкале, их центральность 1/2, т.е. расстояние или среднее равно 2). Это довольно интуитивно, потому что в кластере школы почти все связаны друг с другом, а, следовательно, до остальных меньших кластеров может быть всего одно рукопожатие. В университете же все общаются маленькими группками, и потому там показатели closeness centrality ниже.\n",
    "\n",
    "* **Eigenvector Centrality**\n",
    "\n",
    "Суть в том, что большой вес придается вершинам, у которых много связей с также важными вершинами. Те люди, у которых наивысшее значение Degree Centrality (т.е. люди общительные, а я могу заверить, что Иван Марков, Илья Литкенс, Лиза Подколзина, Александр Геворкянц и прочие именно такие, потому что либо это учителя, которые общаются со всеми, либо звезды школьной \"эстрады\"), обладают и наивысшим Eigenvector Centrality, что закономерно. В коммьюнити университетском, где люди тусуются в маленьких компаниях, кажлый человек связан с малым числом людей, а потому там важных вершин вообще нет. \n",
    "\n",
    "* **Betweenness Centrality**\n",
    "\n",
    "Наконец, степень посредничества наивысшая у Анны Новиковой - моей одноклассницы и одновременно однокурсницы, которая соединяет два больших кластера. "
   ]
  },
  {
   "cell_type": "markdown",
   "metadata": {},
   "source": [
    "## Communities"
   ]
  },
  {
   "cell_type": "markdown",
   "metadata": {},
   "source": [
    "Я предлагаю посмотреть на то, как выделяются сообщества согласно алгоритму Гирвана-Ньюмана и методу Лувена. "
   ]
  },
  {
   "cell_type": "code",
   "execution_count": null,
   "metadata": {},
   "outputs": [],
   "source": [
    "from networkx.algorithms.community.centrality import girvan_newman\n",
    "communities = girvan_newman(graph)\n",
    "result = {i:words for i, words in enumerate(tuple(sorted(c) for c in next(communities)))}\n",
    "\n",
    "subset_color = [\n",
    "    \"teal\",\n",
    "    \"orchid\",\n",
    "    \"lightcolar\",\n",
    "    \"mediumaquamarine\",\n",
    "]\n",
    "color = [ ]\n",
    "for v in graph.nodes():\n",
    "    for i, words in result.items():\n",
    "        if v in words:\n",
    "            color.append(subset_color[i])\n",
    "plt.figure(figsize=(40, 30))\n",
    "nx.draw(graph, pos, node_color=color, with_labels=True, node_size=300, edge_color='darkgray', font_size='18')\n",
    "plt.title('Girvan–Newman algorithm', size = '36', weight = 'bold', color = 'black')\n",
    "plt.show()"
   ]
  },
  {
   "cell_type": "code",
   "execution_count": null,
   "metadata": {},
   "outputs": [],
   "source": [
    "partition = community_louvain.best_partition(graph)\n",
    "modularity = community_louvain.modularity(partition, graph)\n",
    "\n",
    "print('Количество сообществ:', max(Counter(partition).values()))\n",
    "print('Показатель моделярности:', modularity)\n",
    "\n",
    "fig = plt.figure(figsize = (40,30))\n",
    "values = [partition.get(node) for node in graph.nodes()]\n",
    "nx.draw(graph, pos, cmap='Set3', node_color = values, node_size=300,\n",
    "               with_labels=False, font_size = '18', font_color = 'black', edge_color = 'dimgray')\n",
    "plt.title('Louvain method', size = '36', weight = 'bold', color = 'black')\n",
    "fig.set_facecolor('white')\n",
    "plt.show()"
   ]
  },
  {
   "cell_type": "markdown",
   "metadata": {},
   "source": [
    "Честно говоря, Гирван-Ньюман дал далеко непоказательные результаты: у нас выделилось два сообщества, одно из которых включает в себя только трех людей из одной семьи с одинокавыми фамилиями. Не совсем понятно, почему выделились именно они, хотя возможно из-за числа общих у нас друзей (что мы являемся общими друзьями друг для друга). \n",
    "Метод лувена в разы показательнее. Выше я уже писала, что большое облако нодов разделится на две части. Причем эти части практически равнозначные по числу нодов, а разделются они по принципу поколения: желтые ноды - ноды моих сверстников, мятные - людей из старших параллелей и учителей. Музыкальных сообщества тоже два - голубое слева и зеленое справа - и тут уже разделение по тому, кто в каком коллективе играл (хотя между некоторыми людьми из этих сообществ есть общие связи). Кластер университетский - розовый внизу - един.\n",
    "Вообще хочется сказать, что вот так смотришь на этот граф - и вся жизнь перед глазами. "
   ]
  },
  {
   "cell_type": "markdown",
   "metadata": {},
   "source": [
    "## Communities comparing"
   ]
  },
  {
   "cell_type": "code",
   "execution_count": null,
   "metadata": {},
   "outputs": [],
   "source": [
    "nodes_in_community_one = [node for node,community in partition.items() if community == 1]\n",
    "nodes_in_community_five = [node for node,community in partition.items() if community == 5]\n",
    "graph_one = graph.subgraph(nodes_in_community_one)\n",
    "graph_five = graph.subgraph(nodes_in_community_five)"
   ]
  },
  {
   "cell_type": "code",
   "execution_count": null,
   "metadata": {},
   "outputs": [],
   "source": [
    "visualize_graph(graph_one, 'First Community', 'yellow')\n",
    "metrics(graph_one)"
   ]
  },
  {
   "cell_type": "code",
   "execution_count": null,
   "metadata": {},
   "outputs": [],
   "source": [
    "visualize_graph(graph_five, 'Fifth Community', 'lightpink')\n",
    "metrics(graph_five)"
   ]
  },
  {
   "cell_type": "markdown",
   "metadata": {},
   "source": [
    "Анализируя конкретно кластер моих сверстников и университетских однокурсников, я могу подтвердить свою ранее высказанную гипотезу о том, что в школе сообщество более плотное и тесное. Причем замечу, что число нодов в школе ниже, чем в университете. Также важно отметить, что значение диаметра - не лучший показатель для анализа графа, потому что мы видим, что в университете он ниже, хотя на анализе центральностей мы видели, что все важные ноды находятся в сообществе школы."
   ]
  },
  {
   "cell_type": "markdown",
   "metadata": {},
   "source": [
    "## Conclusion"
   ]
  },
  {
   "cell_type": "markdown",
   "metadata": {},
   "source": [
    "Итак, еще до анализа своего графа социальных сетей у меня была гипотеза о том, что в школе граф будет плотнее и люди будут сильнее соединены. В ходе анализа графа, эта гипотеза подтвержилась. В целом все люди, у который высокие параметры центральности какой бы то ни было относятся к школе. \n",
    "Вторая гипотеза была, что в университете все общаются маленькими кучками, в то время как в школе существует одна большая тусовка. Это подтвердилось тем, что Eigenvector Centrality в школьном сообществе оказался выше.\n",
    "Из важных наблюдений стоит отметить, что louvain method отлично разбивает граф на сообщества и что мой граф социальных сетей обладает таким же степенным распределением, что и графы социальных сетей, построенные другими людьми (приятно достигать результатов великих!). Также на моем графе подстверждается правило шести (или уже даже пяти) рукопожатий.\n",
    "Наконец, хочу приложить свои визуализации из Gephi - одна с выделенными по модулярности сообществами (по сути то же, что и визуализация в louvain methods, только с подписями), вторая - с узлами, окрашенными согласно гендеру (мужчины в моем графе составляют треть, и большая их часть относится к школе и к сообществу музыкантов)."
   ]
  },
  {
   "cell_type": "code",
   "execution_count": null,
   "metadata": {},
   "outputs": [],
   "source": [
    "friends_modularity = Image.open(\"Graph_of_friends.png\")\n",
    "display(friends_modularity)"
   ]
  },
  {
   "cell_type": "code",
   "execution_count": null,
   "metadata": {},
   "outputs": [],
   "source": [
    "friends_modularity = Image.open(\"Friends_gender.png\")\n",
    "display(friends_modularity)"
   ]
  }
 ],
 "metadata": {
  "kernelspec": {
   "display_name": "Python 3",
   "language": "python",
   "name": "python3"
  },
  "language_info": {
   "codemirror_mode": {
    "name": "ipython",
    "version": 3
   },
   "file_extension": ".py",
   "mimetype": "text/x-python",
   "name": "python",
   "nbconvert_exporter": "python",
   "pygments_lexer": "ipython3",
   "version": "3.8.1"
  }
 },
 "nbformat": 4,
 "nbformat_minor": 4
}
